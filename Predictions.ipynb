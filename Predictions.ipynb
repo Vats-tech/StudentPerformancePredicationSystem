{
 "cells": [
  {
   "cell_type": "markdown",
   "metadata": {},
   "source": [
    "# Linear Regression"
   ]
  },
  {
   "cell_type": "markdown",
   "metadata": {},
   "source": [
    "# Using Students' Information To Predict Their Final GPA"
   ]
  },
  {
   "cell_type": "code",
   "execution_count": 1,
   "metadata": {},
   "outputs": [],
   "source": [
    "import pandas as pd\n",
    "import numpy as np\n",
    "import matplotlib.pyplot as plt\n",
    "import seaborn as sns\n",
    "%matplotlib inline"
   ]
  },
  {
   "cell_type": "code",
   "execution_count": 2,
   "metadata": {},
   "outputs": [],
   "source": [
    "org = pd.read_csv('student-data-org.csv')\n",
    "mat =pd.read_csv('student-data-mat.csv')"
   ]
  },
  {
   "cell_type": "code",
   "execution_count": 3,
   "metadata": {},
   "outputs": [],
   "source": [
    "studentData=pd.concat([org,mat])\n",
    "# studentData=pd.read_csv('student03.csv')"
   ]
  },
  {
   "cell_type": "code",
   "execution_count": 4,
   "metadata": {},
   "outputs": [
    {
     "data": {
      "text/html": [
       "<div>\n",
       "<style scoped>\n",
       "    .dataframe tbody tr th:only-of-type {\n",
       "        vertical-align: middle;\n",
       "    }\n",
       "\n",
       "    .dataframe tbody tr th {\n",
       "        vertical-align: top;\n",
       "    }\n",
       "\n",
       "    .dataframe thead th {\n",
       "        text-align: right;\n",
       "    }\n",
       "</style>\n",
       "<table border=\"1\" class=\"dataframe\">\n",
       "  <thead>\n",
       "    <tr style=\"text-align: right;\">\n",
       "      <th></th>\n",
       "      <th>school</th>\n",
       "      <th>sex</th>\n",
       "      <th>age</th>\n",
       "      <th>address</th>\n",
       "      <th>famsize</th>\n",
       "      <th>Pstatus</th>\n",
       "      <th>Medu</th>\n",
       "      <th>Fedu</th>\n",
       "      <th>Mjob</th>\n",
       "      <th>Fjob</th>\n",
       "      <th>...</th>\n",
       "      <th>freetime</th>\n",
       "      <th>goout</th>\n",
       "      <th>Dalc</th>\n",
       "      <th>Walc</th>\n",
       "      <th>health</th>\n",
       "      <th>absences</th>\n",
       "      <th>Internal Marks</th>\n",
       "      <th>End Sem. Marks</th>\n",
       "      <th>Final GPA</th>\n",
       "      <th>Final Grade</th>\n",
       "    </tr>\n",
       "  </thead>\n",
       "  <tbody>\n",
       "    <tr>\n",
       "      <th>0</th>\n",
       "      <td>GP</td>\n",
       "      <td>F</td>\n",
       "      <td>23</td>\n",
       "      <td>U</td>\n",
       "      <td>GT3</td>\n",
       "      <td>A</td>\n",
       "      <td>4</td>\n",
       "      <td>4</td>\n",
       "      <td>at_home</td>\n",
       "      <td>teacher</td>\n",
       "      <td>...</td>\n",
       "      <td>3</td>\n",
       "      <td>4</td>\n",
       "      <td>1</td>\n",
       "      <td>1</td>\n",
       "      <td>3</td>\n",
       "      <td>4</td>\n",
       "      <td>0</td>\n",
       "      <td>33</td>\n",
       "      <td>5.5</td>\n",
       "      <td>poor</td>\n",
       "    </tr>\n",
       "    <tr>\n",
       "      <th>1</th>\n",
       "      <td>GP</td>\n",
       "      <td>F</td>\n",
       "      <td>22</td>\n",
       "      <td>U</td>\n",
       "      <td>GT3</td>\n",
       "      <td>T</td>\n",
       "      <td>1</td>\n",
       "      <td>1</td>\n",
       "      <td>at_home</td>\n",
       "      <td>other</td>\n",
       "      <td>...</td>\n",
       "      <td>3</td>\n",
       "      <td>3</td>\n",
       "      <td>1</td>\n",
       "      <td>1</td>\n",
       "      <td>3</td>\n",
       "      <td>2</td>\n",
       "      <td>18</td>\n",
       "      <td>33</td>\n",
       "      <td>5.5</td>\n",
       "      <td>poor</td>\n",
       "    </tr>\n",
       "    <tr>\n",
       "      <th>2</th>\n",
       "      <td>GP</td>\n",
       "      <td>F</td>\n",
       "      <td>20</td>\n",
       "      <td>U</td>\n",
       "      <td>LE3</td>\n",
       "      <td>T</td>\n",
       "      <td>1</td>\n",
       "      <td>1</td>\n",
       "      <td>at_home</td>\n",
       "      <td>other</td>\n",
       "      <td>...</td>\n",
       "      <td>3</td>\n",
       "      <td>2</td>\n",
       "      <td>2</td>\n",
       "      <td>3</td>\n",
       "      <td>3</td>\n",
       "      <td>6</td>\n",
       "      <td>24</td>\n",
       "      <td>39</td>\n",
       "      <td>6.0</td>\n",
       "      <td>fair</td>\n",
       "    </tr>\n",
       "    <tr>\n",
       "      <th>3</th>\n",
       "      <td>GP</td>\n",
       "      <td>F</td>\n",
       "      <td>20</td>\n",
       "      <td>U</td>\n",
       "      <td>GT3</td>\n",
       "      <td>T</td>\n",
       "      <td>4</td>\n",
       "      <td>2</td>\n",
       "      <td>health</td>\n",
       "      <td>services</td>\n",
       "      <td>...</td>\n",
       "      <td>2</td>\n",
       "      <td>2</td>\n",
       "      <td>1</td>\n",
       "      <td>1</td>\n",
       "      <td>5</td>\n",
       "      <td>0</td>\n",
       "      <td>28</td>\n",
       "      <td>42</td>\n",
       "      <td>7.0</td>\n",
       "      <td>fair</td>\n",
       "    </tr>\n",
       "    <tr>\n",
       "      <th>4</th>\n",
       "      <td>GP</td>\n",
       "      <td>F</td>\n",
       "      <td>21</td>\n",
       "      <td>U</td>\n",
       "      <td>GT3</td>\n",
       "      <td>T</td>\n",
       "      <td>3</td>\n",
       "      <td>3</td>\n",
       "      <td>other</td>\n",
       "      <td>other</td>\n",
       "      <td>...</td>\n",
       "      <td>3</td>\n",
       "      <td>2</td>\n",
       "      <td>1</td>\n",
       "      <td>2</td>\n",
       "      <td>5</td>\n",
       "      <td>0</td>\n",
       "      <td>22</td>\n",
       "      <td>39</td>\n",
       "      <td>6.5</td>\n",
       "      <td>fair</td>\n",
       "    </tr>\n",
       "  </tbody>\n",
       "</table>\n",
       "<p>5 rows × 34 columns</p>\n",
       "</div>"
      ],
      "text/plain": [
       "  school sex  age address famsize Pstatus  Medu  Fedu     Mjob      Fjob  ...  \\\n",
       "0     GP   F   23       U     GT3       A     4     4  at_home   teacher  ...   \n",
       "1     GP   F   22       U     GT3       T     1     1  at_home     other  ...   \n",
       "2     GP   F   20       U     LE3       T     1     1  at_home     other  ...   \n",
       "3     GP   F   20       U     GT3       T     4     2   health  services  ...   \n",
       "4     GP   F   21       U     GT3       T     3     3    other     other  ...   \n",
       "\n",
       "  freetime goout  Dalc  Walc  health absences Internal Marks End Sem. Marks  \\\n",
       "0        3     4     1     1       3        4              0             33   \n",
       "1        3     3     1     1       3        2             18             33   \n",
       "2        3     2     2     3       3        6             24             39   \n",
       "3        2     2     1     1       5        0             28             42   \n",
       "4        3     2     1     2       5        0             22             39   \n",
       "\n",
       "  Final GPA Final Grade  \n",
       "0       5.5        poor  \n",
       "1       5.5        poor  \n",
       "2       6.0        fair  \n",
       "3       7.0        fair  \n",
       "4       6.5        fair  \n",
       "\n",
       "[5 rows x 34 columns]"
      ]
     },
     "execution_count": 4,
     "metadata": {},
     "output_type": "execute_result"
    }
   ],
   "source": [
    "studentData.head()"
   ]
  },
  {
   "cell_type": "code",
   "execution_count": 5,
   "metadata": {},
   "outputs": [
    {
     "data": {
      "text/plain": [
       "Index(['school', 'sex', 'age', 'address', 'famsize', 'Pstatus', 'Medu', 'Fedu',\n",
       "       'Mjob', 'Fjob', 'reason', 'guardian', 'traveltime', 'studytime',\n",
       "       'failures', 'schoolsup', 'famsup', 'paid', 'activities', 'nursery',\n",
       "       'higher', 'internet', 'romantic', 'famrel', 'freetime', 'goout', 'Dalc',\n",
       "       'Walc', 'health', 'absences', 'Internal Marks', 'End Sem. Marks',\n",
       "       'Final GPA', 'Final Grade'],\n",
       "      dtype='object')"
      ]
     },
     "execution_count": 5,
     "metadata": {},
     "output_type": "execute_result"
    }
   ],
   "source": [
    "studentData.columns"
   ]
  },
  {
   "cell_type": "code",
   "execution_count": 6,
   "metadata": {},
   "outputs": [
    {
     "name": "stdout",
     "output_type": "stream",
     "text": [
      "<class 'pandas.core.frame.DataFrame'>\n",
      "Int64Index: 1044 entries, 0 to 394\n",
      "Data columns (total 34 columns):\n",
      " #   Column          Non-Null Count  Dtype  \n",
      "---  ------          --------------  -----  \n",
      " 0   school          1044 non-null   object \n",
      " 1   sex             1044 non-null   object \n",
      " 2   age             1044 non-null   int64  \n",
      " 3   address         1044 non-null   object \n",
      " 4   famsize         1044 non-null   object \n",
      " 5   Pstatus         1044 non-null   object \n",
      " 6   Medu            1044 non-null   int64  \n",
      " 7   Fedu            1044 non-null   int64  \n",
      " 8   Mjob            1044 non-null   object \n",
      " 9   Fjob            1044 non-null   object \n",
      " 10  reason          1044 non-null   object \n",
      " 11  guardian        1044 non-null   object \n",
      " 12  traveltime      1044 non-null   int64  \n",
      " 13  studytime       1044 non-null   int64  \n",
      " 14  failures        1044 non-null   int64  \n",
      " 15  schoolsup       1044 non-null   object \n",
      " 16  famsup          1044 non-null   object \n",
      " 17  paid            1044 non-null   object \n",
      " 18  activities      1044 non-null   object \n",
      " 19  nursery         1044 non-null   object \n",
      " 20  higher          1044 non-null   object \n",
      " 21  internet        1044 non-null   object \n",
      " 22  romantic        1044 non-null   object \n",
      " 23  famrel          1044 non-null   int64  \n",
      " 24  freetime        1044 non-null   int64  \n",
      " 25  goout           1044 non-null   int64  \n",
      " 26  Dalc            1044 non-null   int64  \n",
      " 27  Walc            1044 non-null   int64  \n",
      " 28  health          1044 non-null   int64  \n",
      " 29  absences        1044 non-null   int64  \n",
      " 30  Internal Marks  1044 non-null   int64  \n",
      " 31  End Sem. Marks  1044 non-null   int64  \n",
      " 32  Final GPA       1044 non-null   float64\n",
      " 33  Final Grade     1044 non-null   object \n",
      "dtypes: float64(1), int64(15), object(18)\n",
      "memory usage: 285.5+ KB\n"
     ]
    }
   ],
   "source": [
    "studentData.info()"
   ]
  },
  {
   "cell_type": "code",
   "execution_count": 7,
   "metadata": {},
   "outputs": [
    {
     "data": {
      "text/plain": [
       "school            False\n",
       "sex               False\n",
       "age               False\n",
       "address           False\n",
       "famsize           False\n",
       "Pstatus           False\n",
       "Medu              False\n",
       "Fedu              False\n",
       "Mjob              False\n",
       "Fjob              False\n",
       "reason            False\n",
       "guardian          False\n",
       "traveltime        False\n",
       "studytime         False\n",
       "failures          False\n",
       "schoolsup         False\n",
       "famsup            False\n",
       "paid              False\n",
       "activities        False\n",
       "nursery           False\n",
       "higher            False\n",
       "internet          False\n",
       "romantic          False\n",
       "famrel            False\n",
       "freetime          False\n",
       "goout             False\n",
       "Dalc              False\n",
       "Walc              False\n",
       "health            False\n",
       "absences          False\n",
       "Internal Marks    False\n",
       "End Sem. Marks    False\n",
       "Final GPA         False\n",
       "Final Grade       False\n",
       "dtype: bool"
      ]
     },
     "execution_count": 7,
     "metadata": {},
     "output_type": "execute_result"
    }
   ],
   "source": [
    "studentData.isnull().any()"
   ]
  },
  {
   "cell_type": "markdown",
   "metadata": {},
   "source": [
    "# Yes,No Missing Values"
   ]
  },
  {
   "cell_type": "code",
   "execution_count": 8,
   "metadata": {},
   "outputs": [],
   "source": [
    "# sex = pd.get_dummies(studentData['sex'],drop_first=True)\n",
    "# school = pd.get_dummies(studentData['school'],drop_first=True) \n",
    "# address= pd.get_dummies(studentData['address'],drop_first=True)\n",
    "# address= pd.get_dummies(studentData['address'],drop_first=True)\n"
   ]
  },
  {
   "cell_type": "code",
   "execution_count": 9,
   "metadata": {},
   "outputs": [
    {
     "data": {
      "text/html": [
       "<div>\n",
       "<style scoped>\n",
       "    .dataframe tbody tr th:only-of-type {\n",
       "        vertical-align: middle;\n",
       "    }\n",
       "\n",
       "    .dataframe tbody tr th {\n",
       "        vertical-align: top;\n",
       "    }\n",
       "\n",
       "    .dataframe thead th {\n",
       "        text-align: right;\n",
       "    }\n",
       "</style>\n",
       "<table border=\"1\" class=\"dataframe\">\n",
       "  <thead>\n",
       "    <tr style=\"text-align: right;\">\n",
       "      <th></th>\n",
       "      <th>age</th>\n",
       "      <th>Medu</th>\n",
       "      <th>Fedu</th>\n",
       "      <th>traveltime</th>\n",
       "      <th>studytime</th>\n",
       "      <th>failures</th>\n",
       "      <th>famrel</th>\n",
       "      <th>freetime</th>\n",
       "      <th>goout</th>\n",
       "      <th>Dalc</th>\n",
       "      <th>...</th>\n",
       "      <th>nursery_yes</th>\n",
       "      <th>higher_no</th>\n",
       "      <th>higher_yes</th>\n",
       "      <th>internet_no</th>\n",
       "      <th>internet_yes</th>\n",
       "      <th>romantic_no</th>\n",
       "      <th>romantic_yes</th>\n",
       "      <th>Final Grade_fair</th>\n",
       "      <th>Final Grade_good</th>\n",
       "      <th>Final Grade_poor</th>\n",
       "    </tr>\n",
       "  </thead>\n",
       "  <tbody>\n",
       "    <tr>\n",
       "      <th>0</th>\n",
       "      <td>23</td>\n",
       "      <td>4</td>\n",
       "      <td>4</td>\n",
       "      <td>2</td>\n",
       "      <td>2</td>\n",
       "      <td>0</td>\n",
       "      <td>4</td>\n",
       "      <td>3</td>\n",
       "      <td>4</td>\n",
       "      <td>1</td>\n",
       "      <td>...</td>\n",
       "      <td>1</td>\n",
       "      <td>0</td>\n",
       "      <td>1</td>\n",
       "      <td>1</td>\n",
       "      <td>0</td>\n",
       "      <td>1</td>\n",
       "      <td>0</td>\n",
       "      <td>0</td>\n",
       "      <td>0</td>\n",
       "      <td>1</td>\n",
       "    </tr>\n",
       "    <tr>\n",
       "      <th>1</th>\n",
       "      <td>22</td>\n",
       "      <td>1</td>\n",
       "      <td>1</td>\n",
       "      <td>1</td>\n",
       "      <td>2</td>\n",
       "      <td>0</td>\n",
       "      <td>5</td>\n",
       "      <td>3</td>\n",
       "      <td>3</td>\n",
       "      <td>1</td>\n",
       "      <td>...</td>\n",
       "      <td>0</td>\n",
       "      <td>0</td>\n",
       "      <td>1</td>\n",
       "      <td>0</td>\n",
       "      <td>1</td>\n",
       "      <td>1</td>\n",
       "      <td>0</td>\n",
       "      <td>0</td>\n",
       "      <td>0</td>\n",
       "      <td>1</td>\n",
       "    </tr>\n",
       "    <tr>\n",
       "      <th>2</th>\n",
       "      <td>20</td>\n",
       "      <td>1</td>\n",
       "      <td>1</td>\n",
       "      <td>1</td>\n",
       "      <td>2</td>\n",
       "      <td>0</td>\n",
       "      <td>4</td>\n",
       "      <td>3</td>\n",
       "      <td>2</td>\n",
       "      <td>2</td>\n",
       "      <td>...</td>\n",
       "      <td>1</td>\n",
       "      <td>0</td>\n",
       "      <td>1</td>\n",
       "      <td>0</td>\n",
       "      <td>1</td>\n",
       "      <td>1</td>\n",
       "      <td>0</td>\n",
       "      <td>1</td>\n",
       "      <td>0</td>\n",
       "      <td>0</td>\n",
       "    </tr>\n",
       "    <tr>\n",
       "      <th>3</th>\n",
       "      <td>20</td>\n",
       "      <td>4</td>\n",
       "      <td>2</td>\n",
       "      <td>1</td>\n",
       "      <td>3</td>\n",
       "      <td>0</td>\n",
       "      <td>3</td>\n",
       "      <td>2</td>\n",
       "      <td>2</td>\n",
       "      <td>1</td>\n",
       "      <td>...</td>\n",
       "      <td>1</td>\n",
       "      <td>0</td>\n",
       "      <td>1</td>\n",
       "      <td>0</td>\n",
       "      <td>1</td>\n",
       "      <td>0</td>\n",
       "      <td>1</td>\n",
       "      <td>1</td>\n",
       "      <td>0</td>\n",
       "      <td>0</td>\n",
       "    </tr>\n",
       "    <tr>\n",
       "      <th>4</th>\n",
       "      <td>21</td>\n",
       "      <td>3</td>\n",
       "      <td>3</td>\n",
       "      <td>1</td>\n",
       "      <td>2</td>\n",
       "      <td>0</td>\n",
       "      <td>4</td>\n",
       "      <td>3</td>\n",
       "      <td>2</td>\n",
       "      <td>1</td>\n",
       "      <td>...</td>\n",
       "      <td>1</td>\n",
       "      <td>0</td>\n",
       "      <td>1</td>\n",
       "      <td>1</td>\n",
       "      <td>0</td>\n",
       "      <td>1</td>\n",
       "      <td>0</td>\n",
       "      <td>1</td>\n",
       "      <td>0</td>\n",
       "      <td>0</td>\n",
       "    </tr>\n",
       "  </tbody>\n",
       "</table>\n",
       "<p>5 rows × 62 columns</p>\n",
       "</div>"
      ],
      "text/plain": [
       "   age  Medu  Fedu  traveltime  studytime  failures  famrel  freetime  goout  \\\n",
       "0   23     4     4           2          2         0       4         3      4   \n",
       "1   22     1     1           1          2         0       5         3      3   \n",
       "2   20     1     1           1          2         0       4         3      2   \n",
       "3   20     4     2           1          3         0       3         2      2   \n",
       "4   21     3     3           1          2         0       4         3      2   \n",
       "\n",
       "   Dalc  ...  nursery_yes  higher_no  higher_yes  internet_no  internet_yes  \\\n",
       "0     1  ...            1          0           1            1             0   \n",
       "1     1  ...            0          0           1            0             1   \n",
       "2     2  ...            1          0           1            0             1   \n",
       "3     1  ...            1          0           1            0             1   \n",
       "4     1  ...            1          0           1            1             0   \n",
       "\n",
       "   romantic_no  romantic_yes  Final Grade_fair  Final Grade_good  \\\n",
       "0            1             0                 0                 0   \n",
       "1            1             0                 0                 0   \n",
       "2            1             0                 1                 0   \n",
       "3            0             1                 1                 0   \n",
       "4            1             0                 1                 0   \n",
       "\n",
       "   Final Grade_poor  \n",
       "0                 1  \n",
       "1                 1  \n",
       "2                 0  \n",
       "3                 0  \n",
       "4                 0  \n",
       "\n",
       "[5 rows x 62 columns]"
      ]
     },
     "execution_count": 9,
     "metadata": {},
     "output_type": "execute_result"
    }
   ],
   "source": [
    "studentdata=pd.get_dummies(studentData)\n",
    "studentdata.head()"
   ]
  },
  {
   "cell_type": "markdown",
   "metadata": {},
   "source": [
    "# Training a Linear Regression Model"
   ]
  },
  {
   "cell_type": "code",
   "execution_count": 10,
   "metadata": {},
   "outputs": [],
   "source": [
    "X = studentData[['school', 'sex', 'age', 'address', 'famsize', 'Pstatus', 'Medu', 'Fedu',\n",
    "       'Mjob', 'Fjob', 'reason', 'guardian', 'traveltime', 'studytime',\n",
    "       'failures', 'schoolsup', 'famsup', 'paid', 'activities', 'nursery',\n",
    "       'higher', 'internet', 'romantic', 'famrel', 'freetime', 'goout', 'Dalc',\n",
    "       'Walc', 'health', 'absences', 'Internal Marks', 'End Sem. Marks', 'Final Grade']]\n",
    "y = studentData['Final GPA']"
   ]
  },
  {
   "cell_type": "code",
   "execution_count": 11,
   "metadata": {},
   "outputs": [],
   "source": [
    "from sklearn.model_selection import train_test_split"
   ]
  },
  {
   "cell_type": "code",
   "execution_count": 12,
   "metadata": {},
   "outputs": [],
   "source": [
    "X_train, X_test, y_train, y_test = train_test_split(X, y, test_size=0.3, random_state=101)"
   ]
  },
  {
   "cell_type": "code",
   "execution_count": 13,
   "metadata": {},
   "outputs": [],
   "source": [
    "X_train = pd.get_dummies(X_train)\n",
    "X_test = pd.get_dummies(X_test)"
   ]
  },
  {
   "cell_type": "markdown",
   "metadata": {},
   "source": [
    "# Creating and Training the Model"
   ]
  },
  {
   "cell_type": "code",
   "execution_count": 14,
   "metadata": {},
   "outputs": [],
   "source": [
    "from sklearn.linear_model import LinearRegression"
   ]
  },
  {
   "cell_type": "code",
   "execution_count": 15,
   "metadata": {},
   "outputs": [],
   "source": [
    "lm = LinearRegression()"
   ]
  },
  {
   "cell_type": "code",
   "execution_count": 16,
   "metadata": {},
   "outputs": [
    {
     "data": {
      "text/plain": [
       "LinearRegression()"
      ]
     },
     "execution_count": 16,
     "metadata": {},
     "output_type": "execute_result"
    }
   ],
   "source": [
    "lm.fit(X_train,y_train)"
   ]
  },
  {
   "cell_type": "code",
   "execution_count": 17,
   "metadata": {},
   "outputs": [
    {
     "name": "stdout",
     "output_type": "stream",
     "text": [
      "291082304588.7081\n"
     ]
    }
   ],
   "source": [
    "print(lm.intercept_)"
   ]
  },
  {
   "cell_type": "code",
   "execution_count": 18,
   "metadata": {},
   "outputs": [
    {
     "name": "stdout",
     "output_type": "stream",
     "text": [
      "Coefficients: \n",
      " [-3.07474322e-02 -1.28930397e-02 -1.76834539e-02  8.16179213e-02\n",
      " -2.70290328e-02 -9.07720312e-02  5.60495097e-02 -8.77697028e-04\n",
      "  1.40210233e-03 -3.01980373e-03  4.12921749e-02 -2.32348379e-02\n",
      "  2.26262205e-02  2.70297174e-02  1.45361201e-01  6.92350544e+10\n",
      "  6.92350544e+10  8.05769652e+10  8.05769652e+10  3.95708057e+07\n",
      "  3.95708058e+07  1.70998620e+11  1.70998620e+11 -2.84082543e+10\n",
      " -2.84082543e+10  5.73497018e+10  5.73497018e+10  5.73497018e+10\n",
      "  5.73497018e+10  5.73497018e+10  3.78130342e+10  3.78130342e+10\n",
      "  3.78130342e+10  3.78130342e+10  3.78130342e+10 -7.00256198e+10\n",
      " -7.00256198e+10 -7.00256198e+10 -7.00256198e+10  1.21958966e+11\n",
      "  1.21958966e+11  1.21958966e+11  2.99348970e+10  2.99348970e+10\n",
      "  6.07911608e+10  6.07911608e+10  1.34700986e+10  1.34700986e+10\n",
      "  9.86989650e+08  9.86989650e+08 -1.59063186e+11 -1.59063186e+11\n",
      " -1.14686078e+11 -1.14686078e+11 -5.11589734e+10 -5.11589734e+10\n",
      " -2.85168468e+11 -2.85168468e+11 -2.25726784e+11 -2.25726784e+11\n",
      " -2.25726784e+11]\n"
     ]
    }
   ],
   "source": [
    "print('Coefficients: \\n', lm.coef_)"
   ]
  },
  {
   "cell_type": "code",
   "execution_count": 19,
   "metadata": {},
   "outputs": [],
   "source": [
    "predictions = lm.predict(X_test)"
   ]
  },
  {
   "cell_type": "code",
   "execution_count": 20,
   "metadata": {},
   "outputs": [
    {
     "data": {
      "text/plain": [
       "<matplotlib.collections.PathCollection at 0x24ef9bf9100>"
      ]
     },
     "execution_count": 20,
     "metadata": {},
     "output_type": "execute_result"
    },
    {
     "data": {
      "image/png": "[encoded data removed]",
      "text/plain": [
       "<Figure size 432x288 with 1 Axes>"
      ]
     },
     "metadata": {
      "needs_background": "light"
     },
     "output_type": "display_data"
    }
   ],
   "source": [
    "plt.scatter(y_test,predictions)"
   ]
  },
  {
   "cell_type": "code",
   "execution_count": 21,
   "metadata": {},
   "outputs": [
    {
     "data": {
      "text/plain": [
       "array([ 6.1829834 ,  6.21832275,  5.14086914,  7.86486816,  4.7354126 ,\n",
       "        4.51031494,  6.86187744,  6.72546387,  4.5970459 ,  5.99157715,\n",
       "        6.23754883,  5.95544434,  8.73303223,  7.3762207 ,  5.45098877,\n",
       "        7.69421387,  9.19177246,  6.74707031,  4.04321289,  6.42999268,\n",
       "        7.96697998,  9.33282471,  4.89599609,  6.12774658,  4.98150635,\n",
       "        4.21008301,  3.54443359,  6.17858887,  4.25585938,  4.17901611,\n",
       "        4.37426758,  5.03289795,  6.14031982,  5.4498291 ,  8.07305908,\n",
       "        6.72875977,  8.77728271,  4.52020264,  7.5078125 ,  6.66949463,\n",
       "        7.73681641,  6.61254883,  8.95983887,  4.60424805,  4.39587402,\n",
       "        6.31103516,  5.97998047,  4.32910156,  7.05041504,  9.38812256,\n",
       "        5.63641357,  3.69207764,  5.42004395,  6.84326172,  7.38348389,\n",
       "        7.66894531,  5.05541992,  7.2590332 ,  4.74523926,  2.7744751 ,\n",
       "        7.3762207 ,  3.93371582,  4.02722168,  6.85388184,  5.34240723,\n",
       "        6.63433838,  4.30383301,  7.04711914,  4.98614502,  7.51147461,\n",
       "        5.19171143,  5.48083496,  0.15576172,  6.49822998,  7.24133301,\n",
       "        3.69506836,  4.5958252 ,  7.32495117,  4.51647949,  3.30541992,\n",
       "        8.8012085 ,  6.55810547,  7.46240234,  4.41516113,  6.47973633,\n",
       "        4.48352051,  7.04779053,  7.30065918,  7.27990723,  0.29608154,\n",
       "        7.1854248 ,  7.15649414,  5.63391113,  6.12121582,  9.49865723,\n",
       "        4.93670654,  9.19073486,  6.52874756,  3.88439941,  4.13922119,\n",
       "        4.03619385,  4.59234619,  4.4206543 ,  4.71508789,  6.33447266,\n",
       "        5.05084229,  0.58557129,  4.74926758,  3.46716309,  2.69683838,\n",
       "        5.1027832 ,  2.50939941,  9.52539062,  3.86108398,  8.13287354,\n",
       "        4.32769775, -0.14703369,  5.04870605,  5.25823975,  2.48376465,\n",
       "        3.5803833 ,  5.66851807,  4.2911377 ,  5.26800537,  3.77307129,\n",
       "        6.93408203,  5.02087402,  5.2744751 ,  7.25634766,  5.87322998,\n",
       "        5.48474121,  4.55541992,  4.28045654,  6.76513672,  3.13818359,\n",
       "        6.99462891,  6.04699707,  3.828125  ,  7.95898438,  4.15661621,\n",
       "        4.50158691,  7.29284668,  8.3001709 ,  6.85748291,  4.949646  ,\n",
       "        7.5814209 ,  6.42675781,  7.95336914,  7.05395508,  6.55102539,\n",
       "        3.40106201,  7.22167969,  7.22998047,  4.03564453,  6.85235596,\n",
       "        5.480896  ,  7.48596191,  4.79223633,  5.02539062,  5.21917725,\n",
       "        6.48950195,  4.49664307,  8.61175537,  4.65661621,  6.56732178,\n",
       "        6.78125   ,  3.32067871,  5.5637207 ,  8.50140381,  8.0256958 ,\n",
       "        8.722229  ,  3.90234375,  7.02905273,  6.49456787,  4.30603027,\n",
       "        7.26257324,  2.71972656,  4.98522949,  7.41796875,  3.79333496,\n",
       "        6.66381836,  0.52880859,  7.1852417 ,  5.10961914,  5.03601074,\n",
       "        9.9888916 ,  4.6817627 ,  8.69018555,  4.8092041 ,  3.45928955,\n",
       "        5.89807129,  4.20532227,  5.74603271,  5.96270752,  2.6192627 ,\n",
       "        6.03149414,  5.91271973,  5.20751953,  2.89074707,  4.94927979,\n",
       "        3.1505127 ,  6.78198242,  6.1416626 ,  7.63665771,  0.66156006,\n",
       "        3.98944092,  5.83532715,  4.26220703,  6.33508301,  8.03735352,\n",
       "        8.54522705,  7.35009766,  5.75567627,  5.94335938,  0.10430908,\n",
       "        3.83044434,  4.34765625,  8.034729  ,  6.17089844,  4.88330078,\n",
       "        8.52441406,  4.49597168,  4.387146  ,  7.00305176,  5.30114746,\n",
       "        5.68792725,  6.6003418 ,  5.67907715,  4.75463867,  4.64404297,\n",
       "        8.25878906,  5.10778809,  4.61932373,  7.16577148, -0.0838623 ,\n",
       "        6.90802002,  3.89733887,  3.67834473,  4.08276367,  7.27624512,\n",
       "        4.93151855,  5.82562256,  5.26251221,  5.70898438,  6.92565918,\n",
       "        7.94781494,  3.17962646,  6.38757324,  4.30432129,  7.2421875 ,\n",
       "        6.07275391,  2.46734619,  6.58984375,  4.72650146,  3.37298584,\n",
       "        4.33740234,  7.09741211,  4.67333984,  7.54125977,  1.73669434,\n",
       "        5.77392578,  8.71026611,  7.29846191,  4.44946289,  2.65802002,\n",
       "        6.79559326,  6.52038574,  5.85351562,  6.41674805,  3.50476074,\n",
       "        6.4440918 ,  5.46459961,  4.58605957,  1.97106934,  7.25335693,\n",
       "        6.80181885,  4.70330811,  5.68054199,  4.87799072,  7.19006348,\n",
       "        3.10089111,  5.4006958 ,  4.53967285,  4.06884766,  5.81970215,\n",
       "        7.39599609,  9.1831665 ,  6.32006836,  6.13134766,  3.95495605,\n",
       "        8.31616211,  6.00115967,  8.70147705,  6.61535645,  2.71392822,\n",
       "        7.43310547,  4.8394165 ,  5.53015137, -0.12091064,  3.76885986,\n",
       "        7.16589355,  6.95965576,  7.78662109,  4.2713623 ,  4.72399902,\n",
       "        6.43255615,  5.03564453,  4.40441895,  3.74169922,  5.09246826,\n",
       "        0.47650146,  6.23254395,  5.42529297,  6.68383789])"
      ]
     },
     "execution_count": 21,
     "metadata": {},
     "output_type": "execute_result"
    }
   ],
   "source": [
    "predictions"
   ]
  },
  {
   "cell_type": "code",
   "execution_count": 22,
   "metadata": {},
   "outputs": [
    {
     "name": "stderr",
     "output_type": "stream",
     "text": [
      "C:\\Anaconda\\lib\\site-packages\\seaborn\\distributions.py:2551: FutureWarning: `distplot` is a deprecated function and will be removed in a future version. Please adapt your code to use either `displot` (a figure-level function with similar flexibility) or `histplot` (an axes-level function for histograms).\n",
      "  warnings.warn(msg, FutureWarning)\n"
     ]
    },
    {
     "data": {
      "image/png": "[encoded data removed]",
      "text/plain": [
       "<Figure size 432x288 with 1 Axes>"
      ]
     },
     "metadata": {
      "needs_background": "light"
     },
     "output_type": "display_data"
    }
   ],
   "source": [
    "sns.distplot((y_test-predictions),bins=50);"
   ]
  },
  {
   "cell_type": "code",
   "execution_count": 23,
   "metadata": {},
   "outputs": [],
   "source": [
    "from sklearn import metrics"
   ]
  },
  {
   "cell_type": "code",
   "execution_count": 24,
   "metadata": {},
   "outputs": [
    {
     "name": "stdout",
     "output_type": "stream",
     "text": [
      "MAE: 0.4975710340366242\n",
      "MSE: 0.642001902221874\n",
      "RMSE: 0.8012502119949011\n",
      "Explain variance score = 0.84\n",
      "R2 score = 0.84\n"
     ]
    }
   ],
   "source": [
    "print('MAE:', metrics.mean_absolute_error(y_test, predictions))\n",
    "print('MSE:', metrics.mean_squared_error(y_test, predictions))\n",
    "print('RMSE:', np.sqrt(metrics.mean_squared_error(y_test, predictions)))\n",
    "print(\"Explain variance score =\", round(metrics.explained_variance_score(y_test, predictions), 2)) \n",
    "print(\"R2 score =\", round(metrics.r2_score(y_test, predictions), 2))"
   ]
  },
  {
   "cell_type": "markdown",
   "metadata": {},
   "source": [
    "# Classification"
   ]
  },
  {
   "cell_type": "markdown",
   "metadata": {},
   "source": [
    "# Using Students' Information To Predict Their Final Grade"
   ]
  },
  {
   "cell_type": "markdown",
   "metadata": {},
   "source": [
    "# Train Test Split"
   ]
  },
  {
   "cell_type": "code",
   "execution_count": 25,
   "metadata": {},
   "outputs": [],
   "source": [
    "from sklearn.model_selection import train_test_split"
   ]
  },
  {
   "cell_type": "code",
   "execution_count": 51,
   "metadata": {},
   "outputs": [],
   "source": [
    "X_train, X_test, y_train, y_test = train_test_split(studentData.drop('Final Grade',axis=1), \n",
    "                                                    studentData['Final Grade'], test_size=0.30, \n",
    "                                                    random_state=101)\n",
    "X_train = pd.get_dummies(X_train)\n",
    "X_test = pd.get_dummies(X_test)"
   ]
  },
  {
   "cell_type": "markdown",
   "metadata": {},
   "source": [
    "#  1.Logistic Regression"
   ]
  },
  {
   "cell_type": "code",
   "execution_count": 84,
   "metadata": {},
   "outputs": [],
   "source": [
    "from sklearn.linear_model import LogisticRegression"
   ]
  },
  {
   "cell_type": "code",
   "execution_count": 85,
   "metadata": {},
   "outputs": [
    {
     "name": "stderr",
     "output_type": "stream",
     "text": [
      "C:\\Anaconda\\lib\\site-packages\\sklearn\\linear_model\\_logistic.py:762: ConvergenceWarning: lbfgs failed to converge (status=1):\n",
      "STOP: TOTAL NO. of ITERATIONS REACHED LIMIT.\n",
      "\n",
      "Increase the number of iterations (max_iter) or scale the data as shown in:\n",
      "    https://scikit-learn.org/stable/modules/preprocessing.html\n",
      "Please also refer to the documentation for alternative solver options:\n",
      "    https://scikit-learn.org/stable/modules/linear_model.html#logistic-regression\n",
      "  n_iter_i = _check_optimize_result(\n"
     ]
    },
    {
     "data": {
      "text/plain": [
       "LogisticRegression()"
      ]
     },
     "execution_count": 85,
     "metadata": {},
     "output_type": "execute_result"
    }
   ],
   "source": [
    "logmodel = LogisticRegression()\n",
    "logmodel.fit(X_train,y_train)"
   ]
  },
  {
   "cell_type": "code",
   "execution_count": 86,
   "metadata": {},
   "outputs": [],
   "source": [
    "log_predictions = logmodel.predict(X_test)"
   ]
  },
  {
   "cell_type": "code",
   "execution_count": 87,
   "metadata": {},
   "outputs": [],
   "source": [
    "from sklearn.metrics import classification_report"
   ]
  },
  {
   "cell_type": "code",
   "execution_count": 88,
   "metadata": {},
   "outputs": [
    {
     "name": "stdout",
     "output_type": "stream",
     "text": [
      "              precision    recall  f1-score   support\n",
      "\n",
      "        fair       0.89      0.83      0.86       121\n",
      "        good       0.78      0.80      0.79        35\n",
      "        poor       0.92      0.97      0.94       158\n",
      "\n",
      "    accuracy                           0.89       314\n",
      "   macro avg       0.86      0.86      0.86       314\n",
      "weighted avg       0.89      0.89      0.89       314\n",
      "\n"
     ]
    }
   ],
   "source": [
    "print(classification_report(y_test,log_predictions))"
   ]
  },
  {
   "cell_type": "code",
   "execution_count": 89,
   "metadata": {},
   "outputs": [
    {
     "name": "stdout",
     "output_type": "stream",
     "text": [
      "Training Accuracy: 0.9465753424657535\n",
      "Testing Accuracy: 0.8949044585987261\n"
     ]
    }
   ],
   "source": [
    "#calculating the classification accuracies\n",
    "print(\"Training Accuracy:\", logmodel.score(X_train,y_train))\n",
    "print(\"Testing Accuracy:\", logmodel.score(X_test,y_test))"
   ]
  },
  {
   "cell_type": "code",
   "execution_count": 90,
   "metadata": {},
   "outputs": [
    {
     "name": "stdout",
     "output_type": "stream",
     "text": [
      "[[100   8  13]\n",
      " [  7  28   0]\n",
      " [  5   0 153]]\n"
     ]
    }
   ],
   "source": [
    "#printing confusion matrix\n",
    "from sklearn.metrics import confusion_matrix\n",
    "cm=confusion_matrix(y_test,log_predictions)\n",
    "print(cm)"
   ]
  },
  {
   "cell_type": "code",
   "execution_count": 92,
   "metadata": {},
   "outputs": [],
   "source": [
    "# k fold cross validation \n",
    "\n",
    "#from sklearn.model_selection import cross_val_score\n",
    "\n",
    "# computing accuracies for 20 different model's accuracy\n",
    "#accuracies = cross_val_score(estimator = logmodel, X = X_train, y = y_train, cv = 20)\n",
    "#print(accuracies)\n",
    "\n",
    "# computing mean of accuaracies obtained by all the models\n",
    "#print(\"mean accuracy :\", accuracies.mean())\n",
    "\n",
    "# computing the standard variance of the models\n",
    "#print(\"mean standard variance :\", accuracies.std())"
   ]
  },
  {
   "cell_type": "markdown",
   "metadata": {},
   "source": [
    "# 2.Random Forest"
   ]
  },
  {
   "cell_type": "code",
   "execution_count": 93,
   "metadata": {},
   "outputs": [
    {
     "name": "stdout",
     "output_type": "stream",
     "text": [
      "Training Accuracy : 1.0\n",
      "Testing Accuracy : 0.9904458598726115\n"
     ]
    }
   ],
   "source": [
    "from sklearn.ensemble import RandomForestClassifier\n",
    "model = RandomForestClassifier()\n",
    "model.fit(X_train, y_train)\n",
    "rf_predict = model.predict(X_test)\n",
    "# calculating the accuracies\n",
    "print(\"Training Accuracy :\", model.score(X_train, y_train))\n",
    "print(\"Testing Accuracy :\", model.score(X_test, y_test))"
   ]
  },
  {
   "cell_type": "code",
   "execution_count": 94,
   "metadata": {},
   "outputs": [
    {
     "name": "stdout",
     "output_type": "stream",
     "text": [
      "[[121   0   0]\n",
      " [  3  32   0]\n",
      " [  0   0 158]]\n"
     ]
    }
   ],
   "source": [
    "#Printing confusion matrix\n",
    "from sklearn.metrics import confusion_matrix\n",
    "cm=confusion_matrix(y_test,rf_predict)\n",
    "print(cm)"
   ]
  },
  {
   "cell_type": "code",
   "execution_count": 95,
   "metadata": {},
   "outputs": [
    {
     "name": "stdout",
     "output_type": "stream",
     "text": [
      "              precision    recall  f1-score   support\n",
      "\n",
      "        fair       0.98      1.00      0.99       121\n",
      "        good       1.00      0.91      0.96        35\n",
      "        poor       1.00      1.00      1.00       158\n",
      "\n",
      "    accuracy                           0.99       314\n",
      "   macro avg       0.99      0.97      0.98       314\n",
      "weighted avg       0.99      0.99      0.99       314\n",
      "\n"
     ]
    }
   ],
   "source": [
    "print(classification_report(y_test,rf_predict))"
   ]
  },
  {
   "cell_type": "code",
   "execution_count": 96,
   "metadata": {},
   "outputs": [
    {
     "name": "stdout",
     "output_type": "stream",
     "text": [
      "[1.         1.         1.         0.97297297 0.97297297 0.97297297\n",
      " 1.         0.97297297 1.         0.97297297 0.97222222 1.\n",
      " 1.         1.         1.         0.97222222 0.94444444 1.\n",
      " 1.         1.        ]\n",
      "mean accuracy : 0.9876876876876877\n",
      "mean standard variance : 0.01620195958782382\n"
     ]
    }
   ],
   "source": [
    "# k fold cross validation \n",
    "\n",
    "from sklearn.model_selection import cross_val_score\n",
    "\n",
    "# computing accuracies for 20 different model's accuracy\n",
    "accuracies = cross_val_score(estimator = model, X = X_train, y = y_train, cv = 20)\n",
    "print(accuracies)\n",
    "\n",
    "# computing mean of accuaracies obtained by all the models\n",
    "print(\"mean accuracy :\", accuracies.mean())\n",
    "\n",
    "# computing the standard variance of the models\n",
    "print(\"mean standard variance :\", accuracies.std())"
   ]
  },
  {
   "cell_type": "markdown",
   "metadata": {},
   "source": [
    "# 3.Decision Forest"
   ]
  },
  {
   "cell_type": "code",
   "execution_count": 97,
   "metadata": {},
   "outputs": [
    {
     "name": "stdout",
     "output_type": "stream",
     "text": [
      "Training Accuracy : 1.0\n",
      "Testing Accuracy : 1.0\n"
     ]
    }
   ],
   "source": [
    "from sklearn.tree import DecisionTreeClassifier\n",
    "\n",
    "model = DecisionTreeClassifier()\n",
    "model.fit(X_train, y_train)\n",
    "pred = model.predict(X_test)\n",
    "\n",
    "print(\"Training Accuracy :\", model.score(X_train, y_train))\n",
    "print(\"Testing Accuracy :\", model.score(X_test, y_test))"
   ]
  },
  {
   "cell_type": "code",
   "execution_count": 98,
   "metadata": {},
   "outputs": [
    {
     "name": "stdout",
     "output_type": "stream",
     "text": [
      "              precision    recall  f1-score   support\n",
      "\n",
      "        fair       1.00      1.00      1.00       121\n",
      "        good       1.00      1.00      1.00        35\n",
      "        poor       1.00      1.00      1.00       158\n",
      "\n",
      "    accuracy                           1.00       314\n",
      "   macro avg       1.00      1.00      1.00       314\n",
      "weighted avg       1.00      1.00      1.00       314\n",
      "\n"
     ]
    }
   ],
   "source": [
    "print(classification_report(y_test,pred))"
   ]
  },
  {
   "cell_type": "code",
   "execution_count": 99,
   "metadata": {},
   "outputs": [
    {
     "name": "stdout",
     "output_type": "stream",
     "text": [
      "[[121   0   0]\n",
      " [  0  35   0]\n",
      " [  0   0 158]]\n"
     ]
    }
   ],
   "source": [
    "#Printing confusion matrix\n",
    "from sklearn.metrics import confusion_matrix\n",
    "cm=confusion_matrix(y_test,pred)\n",
    "print(cm)"
   ]
  },
  {
   "cell_type": "code",
   "execution_count": 100,
   "metadata": {},
   "outputs": [
    {
     "name": "stdout",
     "output_type": "stream",
     "text": [
      "[1. 1. 1. 1. 1. 1. 1. 1. 1. 1. 1. 1. 1. 1. 1. 1. 1. 1. 1. 1.]\n",
      "mean accuracy : 1.0\n",
      "mean standard variance : 0.0\n"
     ]
    }
   ],
   "source": [
    "# k fold cross validation \n",
    "\n",
    "from sklearn.model_selection import cross_val_score\n",
    "\n",
    "# computing accuracies for 20 different model's accuracy\n",
    "accuracies = cross_val_score(estimator = model, X = X_train, y = y_train, cv = 20)\n",
    "print(accuracies)\n",
    "\n",
    "# computing mean of accuaracies obtained by all the models\n",
    "print(\"mean accuracy :\", accuracies.mean())\n",
    "\n",
    "# computing the standard variance of the models\n",
    "print(\"mean standard variance :\", accuracies.std())"
   ]
  },
  {
   "cell_type": "markdown",
   "metadata": {},
   "source": [
    "# 4.Support Vector Machine"
   ]
  },
  {
   "cell_type": "code",
   "execution_count": 101,
   "metadata": {},
   "outputs": [
    {
     "name": "stdout",
     "output_type": "stream",
     "text": [
      "Training Accuracy : 0.8931506849315068\n",
      "Testing Accuracy : 0.9203821656050956\n"
     ]
    }
   ],
   "source": [
    "from sklearn.svm import SVC\n",
    "model = SVC()\n",
    "model.fit(X_train, y_train)\n",
    "svm_pred = model.predict(X_test)\n",
    "\n",
    "# calculating the accuracies\n",
    "print(\"Training Accuracy :\", model.score(X_train, y_train))\n",
    "print(\"Testing Accuracy :\", model.score(X_test, y_test))"
   ]
  },
  {
   "cell_type": "code",
   "execution_count": 102,
   "metadata": {},
   "outputs": [
    {
     "name": "stdout",
     "output_type": "stream",
     "text": [
      "              precision    recall  f1-score   support\n",
      "\n",
      "        fair       0.89      0.91      0.90       121\n",
      "        good       0.96      0.74      0.84        35\n",
      "        poor       0.94      0.97      0.95       158\n",
      "\n",
      "    accuracy                           0.92       314\n",
      "   macro avg       0.93      0.87      0.90       314\n",
      "weighted avg       0.92      0.92      0.92       314\n",
      "\n"
     ]
    }
   ],
   "source": [
    "print(classification_report(y_test,svm_pred))"
   ]
  },
  {
   "cell_type": "code",
   "execution_count": 103,
   "metadata": {},
   "outputs": [
    {
     "name": "stdout",
     "output_type": "stream",
     "text": [
      "[[110   1  10]\n",
      " [  9  26   0]\n",
      " [  5   0 153]]\n"
     ]
    }
   ],
   "source": [
    "# printing the confusion matrix\n",
    "\n",
    "from sklearn.metrics import confusion_matrix\n",
    "\n",
    "# creating a confusion matrix\n",
    "cm = confusion_matrix(y_test, svm_pred)\n",
    "\n",
    "# printing the confusion matrix\n",
    "print(cm)"
   ]
  },
  {
   "cell_type": "code",
   "execution_count": 104,
   "metadata": {},
   "outputs": [
    {
     "name": "stdout",
     "output_type": "stream",
     "text": [
      "[0.97297297 0.94594595 0.91891892 0.81081081 0.86486486 0.78378378\n",
      " 0.94594595 0.91891892 0.86486486 0.72972973 0.88888889 0.86111111\n",
      " 0.91666667 0.94444444 0.94444444 0.86111111 0.83333333 1.\n",
      " 0.88888889 0.91666667]\n",
      "mean accuracy : 0.8906156156156158\n",
      "mean standard variance : 0.06467058653081567\n"
     ]
    }
   ],
   "source": [
    "# k fold cross validation \n",
    "\n",
    "from sklearn.model_selection import cross_val_score\n",
    "\n",
    "# computing accuracies for 20 different model's accuracy\n",
    "accuracies = cross_val_score(estimator = model, X = X_train, y = y_train, cv = 20)\n",
    "print(accuracies)\n",
    "\n",
    "# computing mean of accuaracies obtained by all the models\n",
    "print(\"mean accuracy :\", accuracies.mean())\n",
    "\n",
    "# computing the standard variance of the models\n",
    "print(\"mean standard variance :\", accuracies.std())"
   ]
  },
  {
   "cell_type": "code",
   "execution_count": null,
   "metadata": {},
   "outputs": [],
   "source": []
  },
  {
   "cell_type": "markdown",
   "metadata": {},
   "source": [
    "# MODEL SELECTIONS"
   ]
  },
  {
   "cell_type": "markdown",
   "metadata": {},
   "source": [
    "Lets Compare Performance of each Model"
   ]
  },
  {
   "cell_type": "markdown",
   "metadata": {},
   "source": [
    "    1.Logistic Regression :->  Model Accuracy - 94 \n",
    "                               Testing Accuracy - 89  \n",
    "\n",
    "    2.Random Forest       :-> \n",
    "                                Model Accuracy - 1 \n",
    "                                Testing Accuracy - 99\n",
    "\n",
    "    3.Decision Forest     :->  \n",
    "                                Model Accuracy - 1\n",
    "                                Testing Accuracy - 1\n",
    "\n",
    "    4.Support Vector Machine :->  \n",
    "                                Model Accuracy - 89\n",
    "                                Testing Accuracy - 92\n",
    "                                \n",
    "                                \n",
    "        So Clearly Decision Forest is having more model accuracy and testing accuracy. \n",
    "        Therefore Decision Forest is best for this data set.\n",
    "        "
   ]
  },
  {
   "cell_type": "markdown",
   "metadata": {},
   "source": [
    "# SUMMARY"
   ]
  },
  {
   "cell_type": "markdown",
   "metadata": {},
   "source": [
    "    The Students of college likely to have this profile\n",
    "    \n",
    "    - Is not in a romantic relatioship\n",
    "    - Does not consume alcohol\n",
    "    - Living in an urban area\n",
    "    - Does not go out with friends frequently\n",
    "    - Have strong desire of receiving higher education\n",
    "    - Parents both received higher education\n",
    "    - Study more than 10 hours weekly\n",
    "    - Have access to internet at hoome\n",
    "    - Is healthy\n",
    "    - No absence in classes"
   ]
  },
  {
   "cell_type": "code",
   "execution_count": null,
   "metadata": {},
   "outputs": [],
   "source": []
  }
 ],
 "metadata": {
  "celltoolbar": "Raw Cell Format",
  "kernelspec": {
   "display_name": "Python 3",
   "language": "python",
   "name": "python3"
  },
  "language_info": {
   "codemirror_mode": {
    "name": "ipython",
    "version": 3
   },
   "file_extension": ".py",
   "mimetype": "text/x-python",
   "name": "python",
   "nbconvert_exporter": "python",
   "pygments_lexer": "ipython3",
   "version": "3.8.5"
  }
 },
 "nbformat": 4,
 "nbformat_minor": 4
}
